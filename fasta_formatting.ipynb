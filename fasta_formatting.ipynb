{
 "cells": [
  {
   "cell_type": "code",
   "execution_count": 24,
   "metadata": {},
   "outputs": [],
   "source": [
    "from Bio import SeqIO, Seq"
   ]
  },
  {
   "cell_type": "code",
   "execution_count": 13,
   "metadata": {},
   "outputs": [],
   "source": [
    "fa = SeqIO.parse(\"arb-silva.de_2020-11-30_id922425_tax_silva.fasta\", \"fasta\")"
   ]
  },
  {
   "cell_type": "code",
   "execution_count": 14,
   "metadata": {},
   "outputs": [],
   "source": [
    "unambiguous = []\n",
    "for r in fa:\n",
    "    if len(list(set(r.seq))) == 4:\n",
    "        unambiguous.append(r)\n"
   ]
  },
  {
   "cell_type": "code",
   "execution_count": 17,
   "metadata": {},
   "outputs": [],
   "source": [
    "del(unambiguous)"
   ]
  },
  {
   "cell_type": "code",
   "execution_count": 15,
   "metadata": {},
   "outputs": [],
   "source": [
    "with open(\"silva_nr_ref_prokaryote_unambiguous.fasta\", \"w\") as f:\n",
    "    SeqIO.write(unambiguous, f, \"fasta\")"
   ]
  },
  {
   "cell_type": "code",
   "execution_count": 22,
   "metadata": {},
   "outputs": [],
   "source": [
    "fa = SeqIO.parse('silva_nr_ref_prokaryote_unambiguous.fasta', \"fasta\")"
   ]
  },
  {
   "cell_type": "code",
   "execution_count": 23,
   "metadata": {},
   "outputs": [
    {
     "data": {
      "text/plain": [
       "SeqRecord(seq=Seq('UAAGUGAAGAGUUUGAUCCUGGCUCAGAGUGAACGCUGGCGGCAGGCCUAACAC...UUU', SingleLetterAlphabet()), id='AAAL02000003.178628.180172', name='AAAL02000003.178628.180172', description='AAAL02000003.178628.180172 Bacteria;Proteobacteria;Gammaproteobacteria;Xanthomonadales;Xanthomonadaceae;Xylella;Xylella fastidiosa Dixon', dbxrefs=[])"
      ]
     },
     "execution_count": 23,
     "metadata": {},
     "output_type": "execute_result"
    }
   ],
   "source": [
    "next(fa)"
   ]
  },
  {
   "cell_type": "code",
   "execution_count": 26,
   "metadata": {},
   "outputs": [],
   "source": [
    "# write as DNA instead of RNA.\n",
    "fa = SeqIO.parse('silva_nr_ref_prokaryote_unambiguous.fasta', \"fasta\")\n",
    "replaced = []\n",
    "for record in fa:\n",
    "    s = \"{}\".format(record.seq).replace('U', \"T\")\n",
    "    record.seq = Seq.Seq(s)\n",
    "    replaced.append(record)\n",
    "    "
   ]
  },
  {
   "cell_type": "code",
   "execution_count": 27,
   "metadata": {},
   "outputs": [],
   "source": [
    "with open('silva_nr_ref_unamibguous_as_dna.fasta', 'w') as f:\n",
    "    SeqIO.write(replaced, f, \"fasta\")"
   ]
  }
 ],
 "metadata": {
  "kernelspec": {
   "display_name": "Python 3",
   "language": "python",
   "name": "python3"
  },
  "language_info": {
   "codemirror_mode": {
    "name": "ipython",
    "version": 3
   },
   "file_extension": ".py",
   "mimetype": "text/x-python",
   "name": "python",
   "nbconvert_exporter": "python",
   "pygments_lexer": "ipython3",
   "version": "3.7.7"
  }
 },
 "nbformat": 4,
 "nbformat_minor": 4
}
