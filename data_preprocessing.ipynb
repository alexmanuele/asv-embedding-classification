{
 "cells": [
  {
   "cell_type": "markdown",
   "metadata": {},
   "source": [
    "# Moving data sets around\n",
    "Using the following sets, as they are all MiSeq, all are Stool 16S:\n",
    "- Son 2015 &ensp; SRA study SRP057700 &ensp; autism vs neurotypical  &ensp; Library_Name_s\n",
    "- Youngster 2014 &ensp; SRA study SRP040146 \n",
    "- Baxter 2016 &ensp; SRA study SRP062005\n",
    "- Zeller 2014 &ensp; ENA study PRJEB6070 &ensp; Subject ID\n",
    "- Lozupone 2013 &ensp; ENA study PRJEB4335\n",
    "- Noguera-Julian 2016 &ensp; SRA study SRP068240\n",
    "- Gevers 2014, IBD &ensp; SRA study SRP040765\n",
    "- Goodrich 2014 &ensp; ENA studies PRJEB6702 and PRJEB6705\n",
    "- Alkanani 2015 &ensp; N/A (email authors)"
   ]
  },
  {
   "cell_type": "markdown",
   "metadata": {},
   "source": [
    "### Processing strategy:\n",
    "- data stored as otu tables, seperate FASTA file\n",
    "- format otu table as rows:Samples, columns:OTU id, cells: abundance\n",
    "- create mapping table with ID, SEQ "
   ]
  },
  {
   "cell_type": "code",
   "execution_count": 1,
   "metadata": {},
   "outputs": [],
   "source": [
    "import pandas as pd\n",
    "from Bio import SeqIO, SeqRecord, Seq"
   ]
  },
  {
   "cell_type": "code",
   "execution_count": 2,
   "metadata": {},
   "outputs": [],
   "source": [
    "#study_name is the directory.\n",
    "#sample name is always the first column of the metadata file\n",
    "#label is always \"Disease state\"\n",
    "def join_tables(study_name):\n",
    "    root = 'data/raw_otu_tables/{0}_results/{1}'.format(study_name, study_name+\"{}\")\n",
    "    print(root.format(\".metadata.txt\"))\n",
    "    metadata = pd.read_table(root.format(\".metadata.txt\"), encoding=\"iso-8859-1\")\n",
    "    sample_col = metadata.columns[0]\n",
    "    otus = pd.read_table(root.format(\".otu_table.100.denovo\"))\n",
    "    fa = SeqIO.parse(root.format(\".otu_seqs.100.fasta\"), \"fasta\")\n",
    "    #make a table of Otu ID and sequence\n",
    "    ids= []\n",
    "    seqs = []\n",
    "    for r in fa:\n",
    "        ids.append(r.name)\n",
    "        seqs.append(\"{}\".format(r.seq))\n",
    "    seq_df = pd.DataFrame({\"OTU_ID\":ids, \"Sequence\": seqs}).set_index(\"OTU_ID\")\n",
    "    #join tables\n",
    "    otus_joined = otus.join(seq_df, on='OTU_ID')\n",
    "    \n",
    "    #Get the sample labels\n",
    "    labels = {'OTU_ID': 'disease_state'}\n",
    "    v = metadata[[sample_col, 'DiseaseState']].values\n",
    "    for i in v:\n",
    "        labels[i[0]] = i[1]\n",
    "    labels['Sequence'] = \"N/A\"\n",
    "    otus_joined = otus_joined.append(labels, ignore_index = True)\n",
    "    return otus_joined\n",
    "    \n",
    "                                         "
   ]
  },
  {
   "cell_type": "code",
   "execution_count": 37,
   "metadata": {},
   "outputs": [
    {
     "name": "stdout",
     "output_type": "stream",
     "text": [
      "data/raw_otu_tables/asd_son_results/asd_son.metadata.txt\n",
      "data/raw_otu_tables/cdi_youngster_results/cdi_youngster.metadata.txt\n",
      "data/raw_otu_tables/crc_baxter_results/crc_baxter.metadata.txt\n",
      "data/raw_otu_tables/crc_zeller_results/crc_zeller.metadata.txt\n",
      "data/raw_otu_tables/hiv_lozupone_results/hiv_lozupone.metadata.txt\n",
      "data/raw_otu_tables/hiv_noguerajulian_results/hiv_noguerajulian.metadata.txt\n",
      "data/raw_otu_tables/ibd_gevers_2014_results/ibd_gevers_2014.metadata.txt\n",
      "data/raw_otu_tables/ob_goodrich_results/ob_goodrich.metadata.txt\n",
      "data/raw_otu_tables/t1d_alkanani_results/t1d_alkanani.metadata.txt\n"
     ]
    }
   ],
   "source": [
    "studies = ['asd_son', 'cdi_youngster', 'crc_baxter', 'crc_zeller', 'hiv_lozupone', 'hiv_noguerajulian',\n",
    "          'ibd_gevers_2014', 'ob_goodrich', 't1d_alkanani']\n",
    "\n",
    "for study in studies: \n",
    "    out = \"../selected_datasets_joined/{}.tsv\".format(study)\n",
    "    join_tables(study).to_csv(out, index=False)"
   ]
  }
 ],
 "metadata": {
  "kernelspec": {
   "display_name": "Python 3",
   "language": "python",
   "name": "python3"
  },
  "language_info": {
   "codemirror_mode": {
    "name": "ipython",
    "version": 3
   },
   "file_extension": ".py",
   "mimetype": "text/x-python",
   "name": "python",
   "nbconvert_exporter": "python",
   "pygments_lexer": "ipython3",
   "version": "3.7.7"
  }
 },
 "nbformat": 4,
 "nbformat_minor": 4
}
